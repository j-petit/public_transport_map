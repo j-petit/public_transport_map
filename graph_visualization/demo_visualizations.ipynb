{
 "cells": [
  {
   "cell_type": "markdown",
   "metadata": {},
   "source": [
    "# Using gmaps for visualization\n",
    "Author: Jens Petit\n",
    "\n",
    "This notebook gives some short examples how to use gmaps for visualization purposes."
   ]
  },
  {
   "cell_type": "code",
   "execution_count": 2,
   "metadata": {},
   "outputs": [],
   "source": [
    "from graph_utils import pose_graph_nx as pg\n",
    "from graph_utils import plotter as plt\n",
    "from graph_utils import optimizer_matrix_sparse as opti\n",
    "from graph_utils.db_interface import DBInterface as dbi\n",
    "from graph_utils import representor\n",
    "from graph_utils import sparsifier\n",
    "import networkx as nx\n",
    "\n",
    "import matplotlib.pyplot as pyplt\n",
    "import pickle\n",
    "import math\n",
    "import numpy as np\n",
    "import pdb \n",
    "import pandas as pd\n",
    "from graph_utils import pose_graph_helper as pg_help"
   ]
  },
  {
   "cell_type": "markdown",
   "metadata": {},
   "source": [
    "## Plotting a simple pose graph object"
   ]
  },
  {
   "cell_type": "code",
   "execution_count": 3,
   "metadata": {},
   "outputs": [
    {
     "data": {
      "text/plain": [
       "True"
      ]
     },
     "execution_count": 3,
     "metadata": {},
     "output_type": "execute_result"
    }
   ],
   "source": [
    "# Creating a graph directly from the database!\n",
    "graph = pg.PoseGraph()\n",
    "VEH_TRIP_ID = 1681515587\n",
    "graph.loadTripFromDb(VEH_TRIP_ID)"
   ]
  },
  {
   "cell_type": "code",
   "execution_count": 4,
   "metadata": {},
   "outputs": [
    {
     "data": {
      "application/vnd.jupyter.widget-view+json": {
       "model_id": "de7e27a2691f4c09a3344edf0b340b87",
       "version_major": 2,
       "version_minor": 0
      },
      "text/plain": [
       "Figure(layout=FigureLayout(height='420px'))"
      ]
     },
     "metadata": {},
     "output_type": "display_data"
    }
   ],
   "source": [
    "plotter = plt.Plotter()\n",
    "plotter.addNodeLayer(graph)\n",
    "plotter.addEdgeLayer(graph)\n",
    "plotter.plotGmaps()"
   ]
  },
  {
   "cell_type": "markdown",
   "metadata": {},
   "source": [
    "## Plotting additional information: Heading, doors, time"
   ]
  },
  {
   "cell_type": "markdown",
   "metadata": {},
   "source": [
    "Loading a map like graph from serialized object."
   ]
  },
  {
   "cell_type": "code",
   "execution_count": 5,
   "metadata": {},
   "outputs": [],
   "source": [
    "map_graph = pickle.load( open(\"../graphs/line_54_1/line_54_1.graph\", \"rb\"))"
   ]
  },
  {
   "cell_type": "markdown",
   "metadata": {},
   "source": [
    "The plot contains the heading information as a small red line coming out of each node as well as markers for each bay and the number of times a vehicle stopped there. Click on the marker to see this information."
   ]
  },
  {
   "cell_type": "code",
   "execution_count": 6,
   "metadata": {},
   "outputs": [
    {
     "data": {
      "application/vnd.jupyter.widget-view+json": {
       "model_id": "5a6a1e4a6d32478cb27e079a01a35f28",
       "version_major": 2,
       "version_minor": 0
      },
      "text/plain": [
       "Figure(layout=FigureLayout(height='420px'))"
      ]
     },
     "metadata": {},
     "output_type": "display_data"
    }
   ],
   "source": [
    "plotter = plt.Plotter()\n",
    "plotter.addNodeLayer(map_graph)\n",
    "plotter.addEdgeLayer(map_graph, time=True)\n",
    "plotter.addDoorLayer(map_graph)\n",
    "plotter.addHeadingLayer(map_graph)\n",
    "plotter.plotGmaps()"
   ]
  },
  {
   "cell_type": "markdown",
   "metadata": {},
   "source": [
    "### Bay stopping distribution"
   ]
  },
  {
   "cell_type": "code",
   "execution_count": 7,
   "metadata": {},
   "outputs": [
    {
     "data": {
      "application/vnd.jupyter.widget-view+json": {
       "model_id": "657cf46b523140c5ad603f2a0441be16",
       "version_major": 2,
       "version_minor": 0
      },
      "text/plain": [
       "Figure(layout=FigureLayout(height='420px'))"
      ]
     },
     "metadata": {},
     "output_type": "display_data"
    }
   ],
   "source": [
    "plotter = plt.Plotter()\n",
    "plotter.addNodeLayer(map_graph)\n",
    "plotter.addEdgeLayer(map_graph)\n",
    "heatmap_door = plotter.addDoorLayer(map_graph, door_hist=True)\n",
    "heatmap_door.max_intensity = 10\n",
    "plotter.plotGmaps()"
   ]
  },
  {
   "cell_type": "markdown",
   "metadata": {},
   "source": [
    "# Heatmap plot of large amounts of graphs\n",
    "Gmaps can only cope with a number of nodes larger than 2000 when a heatmap plot is used. Therefore, this kind of plot is used to when it is necessary to get an overview of large amounts of data."
   ]
  },
  {
   "cell_type": "code",
   "execution_count": 8,
   "metadata": {},
   "outputs": [
    {
     "data": {
      "application/vnd.jupyter.widget-view+json": {
       "model_id": "5249e25fc1ff4fa9be42650fb544c6c8",
       "version_major": 2,
       "version_minor": 0
      },
      "text/plain": [
       "Figure(layout=FigureLayout(height='420px'))"
      ]
     },
     "metadata": {},
     "output_type": "display_data"
    }
   ],
   "source": [
    "plotter = plt.Plotter()\n",
    "heatmap = plotter.addHeatmapLayer([map_graph])\n",
    "heatmap.max_intensity = 10\n",
    "plotter.plotGmaps()"
   ]
  }
 ],
 "metadata": {
  "kernelspec": {
   "display_name": "MVG Project",
   "language": "python",
   "name": "mvg_project"
  },
  "language_info": {
   "codemirror_mode": {
    "name": "ipython",
    "version": 3
   },
   "file_extension": ".py",
   "mimetype": "text/x-python",
   "name": "python",
   "nbconvert_exporter": "python",
   "pygments_lexer": "ipython3",
   "version": "3.6.5"
  }
 },
 "nbformat": 4,
 "nbformat_minor": 2
}
