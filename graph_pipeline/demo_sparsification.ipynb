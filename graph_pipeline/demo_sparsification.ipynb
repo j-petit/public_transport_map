{
 "cells": [
  {
   "cell_type": "code",
   "execution_count": null,
   "metadata": {},
   "outputs": [],
   "source": [
    "from graph_utils import pose_graph_nx as pg\n",
    "from graph_utils import pose_graph_helper as helper\n",
    "from graph_utils import plotter as plt\n",
    "\n",
    "import pandas as pd\n",
    "import numpy as np\n",
    "import glob, os\n",
    "import copy\n",
    "import pickle\n",
    "\n",
    "%load_ext autoreload\n",
    "%autoreload 2"
   ]
  },
  {
   "cell_type": "markdown",
   "metadata": {},
   "source": [
    "## Load a graph\n",
    "Firstly, load any pose graph to test the sparsification on. It can be load directly from the database, or an unpickled PoseGraph object."
   ]
  },
  {
   "cell_type": "code",
   "execution_count": null,
   "metadata": {},
   "outputs": [],
   "source": [
    "graph = pg.PoseGraph()\n",
    "graph.loadTripFromDb(1675315172)\n"
   ]
  },
  {
   "cell_type": "markdown",
   "metadata": {},
   "source": [
    "### Graph porperties\n",
    "These are the properties of the original, dense, graph."
   ]
  },
  {
   "cell_type": "code",
   "execution_count": null,
   "metadata": {},
   "outputs": [],
   "source": [
    "graph.calculateEdgeDistances()\n",
    "graph_helper = helper.PoseGraphHelper(graph)\n",
    "\n",
    "graph_helper.printGraphProperties()"
   ]
  },
  {
   "cell_type": "markdown",
   "metadata": {},
   "source": [
    "### Plot loaded graph\n",
    "And this is what the original graph looks like."
   ]
  },
  {
   "cell_type": "code",
   "execution_count": null,
   "metadata": {},
   "outputs": [],
   "source": [
    "plotter = plt.Plotter()\n",
    "plotter.addNodeLayer(graph, color=(255, 0, 0, 1))\n",
    "\n",
    "plotter.plotGmaps()"
   ]
  },
  {
   "cell_type": "markdown",
   "metadata": {},
   "source": [
    "### Prune graph by merging parallel paths\n",
    "tbd"
   ]
  },
  {
   "cell_type": "markdown",
   "metadata": {},
   "source": [
    "### Sparsify graph by dropping all nodes that are no points of interest\n",
    "The most radical application is to drop all nodes that are no intersections or door events. This will result in a high level representation of the graph."
   ]
  },
  {
   "cell_type": "code",
   "execution_count": null,
   "metadata": {},
   "outputs": [],
   "source": [
    "from graph_utils import sparsifier as sparse\n",
    "import copy\n",
    "\n",
    "graph_sparse = sparse.sparsifiyPoseGraph(copy.deepcopy(graph), \n",
    "                                         criteria='PoI'\n",
    "                                        )"
   ]
  },
  {
   "cell_type": "markdown",
   "metadata": {},
   "source": [
    "### Graph properties\n",
    "The high level graph has the following properties. \n",
    "The subsequent sparsification methods should under no circumstances fall below these properties, otherwise valuable information would be lost. "
   ]
  },
  {
   "cell_type": "code",
   "execution_count": null,
   "metadata": {},
   "outputs": [],
   "source": [
    "graph_sparse.calculateEdgeDistances()\n",
    "graph_sparse_helper = helper.PoseGraphHelper(graph_sparse)\n",
    "graph_sparse_helper.printGraphProperties()"
   ]
  },
  {
   "cell_type": "markdown",
   "metadata": {},
   "source": [
    "### Plot sparsified graph\n",
    "Add the high level graph (in blue) to the dense graph."
   ]
  },
  {
   "cell_type": "code",
   "execution_count": null,
   "metadata": {},
   "outputs": [],
   "source": [
    "plotter.addNodeLayer(graph_sparse, color=(0, 0, 255, 1))\n",
    "plotter.addEdgeLayer(graph_sparse, color=(0, 0, 255, 1))\n",
    "\n",
    "plotter.plotGmaps()"
   ]
  },
  {
   "cell_type": "markdown",
   "metadata": {},
   "source": [
    "## Compute L2 loss between pruned and original graph"
   ]
  },
  {
   "cell_type": "code",
   "execution_count": null,
   "metadata": {},
   "outputs": [],
   "source": [
    "import networkx as nx\n",
    "import math\n",
    "\n",
    "def difference(pg_dense, pg_sparse):\n",
    "\n",
    "    diff_edges = pg_dense.edges - pg_sparse.edges\n",
    "    \n",
    "    d_edges = iter(pg_dense.edges)\n",
    "    s_edges = iter(pg_sparse.edges)\n",
    "\n",
    "    loss = 0\n",
    "    i=0\n",
    "    \n",
    "    s_edge=next(s_edges, None)\n",
    "    d_edge=next(d_edges, None)\n",
    "    \n",
    "    while s_edge is not None:\n",
    "                \n",
    "        s_edge_vector = [pg_sparse.nodes[s_edge[1]]['x'] - pg_sparse.nodes[s_edge[0]]['x'],\n",
    "                         pg_sparse.nodes[s_edge[1]]['y'] - pg_sparse.nodes[s_edge[0]]['y']]\n",
    "        \n",
    "            \n",
    "        while d_edge is not None:\n",
    "            if s_edge==d_edge:\n",
    "                d_edge = next(d_edges, None)\n",
    "                break\n",
    "                \n",
    "            if d_edge in diff_edges:\n",
    "                i = i+1\n",
    "\n",
    "                d_edge_vector = [pg_dense.nodes[d_edge[1]]['x'] - pg_sparse.nodes[s_edge[0]]['x'],\n",
    "                                 pg_dense.nodes[d_edge[1]]['y'] - pg_sparse.nodes[s_edge[0]]['y']]\n",
    "                \n",
    "                length = np.linalg.norm(d_edge_vector)\n",
    "\n",
    "                if length != 0 and np.linalg.norm(s_edge_vector)!=0.0:\n",
    "                    angle = sparse.angle_between(s_edge_vector, d_edge_vector)\n",
    "                    delta_loss = (math.sin(angle)*length)**2\n",
    "                    loss += 0.5*(math.sin(angle)*length)**2\n",
    "\n",
    "            d_edge = next(d_edges, None)\n",
    "\n",
    "        s_edge = next(s_edges, None)\n",
    "\n",
    "    return loss / i"
   ]
  },
  {
   "cell_type": "code",
   "execution_count": null,
   "metadata": {},
   "outputs": [],
   "source": [
    "print(difference(graph.nx_graph, graph_sparse.nx_graph))"
   ]
  },
  {
   "cell_type": "markdown",
   "metadata": {},
   "source": [
    "## Linear fit - grid search hyperparameter"
   ]
  },
  {
   "cell_type": "code",
   "execution_count": null,
   "metadata": {},
   "outputs": [],
   "source": [
    "for window_size in [3,5,10]:\n",
    "    for loss_threshold in [1, 5, 10]:\n",
    "        print(\"\\n\\n\\n Window size = {0}; loss threshold = {1}\".format(window_size, loss_threshold))\n",
    "        \n",
    "        graph_sparse = sparse.sparsifiyPoseGraph(copy.deepcopy(graph), \n",
    "                                                 window_size=window_size, \n",
    "                                                 loss_threshold=loss_threshold,\n",
    "                                                 criteria='fit'\n",
    "                                                )\n",
    "        \n",
    "        # Evaluation\n",
    "        helper.PoseGraphHelper(graph_sparse).printGraphProperties()\n",
    "        \n",
    "        print(difference(graph.nx_graph, graph_sparse.nx_graph))"
   ]
  },
  {
   "cell_type": "markdown",
   "metadata": {},
   "source": [
    "Why are all path lengths the same. Check implementation in pose_graph_nx serial node drop"
   ]
  },
  {
   "cell_type": "markdown",
   "metadata": {},
   "source": [
    "## Heading cluster - grid search hyperparameter"
   ]
  },
  {
   "cell_type": "code",
   "execution_count": null,
   "metadata": {},
   "outputs": [],
   "source": [
    "for window_size in [3,5,10]:\n",
    "    for angle_var_threshold in [0.01,0.05,0.1]:\n",
    "        print(\"\\n\\n\\n Window size = {0}; Angel_var_threshold = {1}\".format(window_size, angle_var_threshold))\n",
    "        \n",
    "        graph_sparse = sparse.sparsifiyPoseGraph(copy.deepcopy(graph), \n",
    "                                                 window_size=window_size, \n",
    "                                                 loss_threshold=angle_var_threshold,\n",
    "                                                 criteria='heading'\n",
    "                                                )\n",
    "        \n",
    "        # Evaluation\n",
    "        graph_sparse.calculateEdgeDistances()\n",
    "        graph_sparse_helper = helper.PoseGraphHelper(graph_sparse)\n",
    "        graph_sparse_helper.printGraphProperties()\n",
    "        \n",
    "        print(difference(graph.nx_graph, graph_sparse.nx_graph))"
   ]
  },
  {
   "cell_type": "code",
   "execution_count": null,
   "metadata": {},
   "outputs": [],
   "source": []
  }
 ],
 "metadata": {
  "kernelspec": {
   "display_name": "MVG Project",
   "language": "python",
   "name": "mvg_project"
  },
  "language_info": {
   "codemirror_mode": {
    "name": "ipython",
    "version": 3
   },
   "file_extension": ".py",
   "mimetype": "text/x-python",
   "name": "python",
   "nbconvert_exporter": "python",
   "pygments_lexer": "ipython3",
   "version": "3.6.5"
  }
 },
 "nbformat": 4,
 "nbformat_minor": 2
}
