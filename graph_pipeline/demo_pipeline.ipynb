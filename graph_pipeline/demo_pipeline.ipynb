{
 "cells": [
  {
   "cell_type": "markdown",
   "metadata": {},
   "source": [
    "# Example pipeline\n",
    "Author: Jens Petit\n",
    "\n",
    "In this notebook the whole process for a creating a single map like graph for two lines is outlayed and the results in the intermediate steps are visible.\n",
    "\n",
    "A connection to the database is necessary to load the data."
   ]
  },
  {
   "cell_type": "code",
   "execution_count": 1,
   "metadata": {},
   "outputs": [],
   "source": [
    "from graph_utils import pose_graph_nx as pg\n",
    "from graph_utils import plotter as plt\n",
    "from graph_utils import optimizer_matrix_sparse as opti\n",
    "from graph_utils.db_interface import DBInterface as dbi\n",
    "from graph_utils import representor\n",
    "from graph_utils import sparsifier\n",
    "from graph_utils import pose_graph_helper\n",
    "from graph_utils import merger\n",
    "import networkx as nx\n",
    "import pdb\n",
    "\n",
    "import matplotlib.pyplot as pyplt\n",
    "import pickle\n",
    "import math\n",
    "import numpy as np\n",
    "import pdb \n",
    "import pandas as pd\n",
    "from graph_utils import pose_graph_helper as pg_help\n",
    "\n",
    "import copy\n",
    "%load_ext autoreload\n",
    "%autoreload 2"
   ]
  },
  {
   "cell_type": "markdown",
   "metadata": {},
   "source": [
    "## Loading the raw data and merging them into a single graph object\n",
    "The graphs will be written to a single pose graph object called base_graph.\n",
    "\n",
    "In this example we make the map for the lines 54 and 155 which share a part of the road network."
   ]
  },
  {
   "cell_type": "code",
   "execution_count": 2,
   "metadata": {
    "scrolled": true
   },
   "outputs": [
    {
     "name": "stdout",
     "output_type": "stream",
     "text": [
      "Lines [(54, '%'), (155, '%')] on dates ['2018-02-15']\n",
      "Starting to get trip Ids for 1 days and 2 lines\n",
      "Now on date 2018-02-15.\n",
      "Starting to get trip IDs. Takes a while....\n",
      "We have 368 graphs\n",
      "No data for this trip B:54:701!\n",
      "No data for this trip B:54:16!\n",
      "No data for this trip B:54:1!\n",
      "No data for this trip B:54:13!\n",
      "No data for this trip B:54:2!\n",
      "No data for this trip 1681612461!\n",
      "No data for this trip 1681612899!\n",
      "No data for this trip 1681612904!\n",
      "No data for this trip 1681636169!\n",
      "No data for this trip 1681636600!\n",
      "No data for this trip B:54:12!\n",
      "No data for this trip B:54:22!\n",
      "No data for this trip B:54:3!\n",
      "No data for this trip 1681636930!\n",
      "No data for this trip B:54:724!\n",
      "No data for this trip B:54:749!\n",
      "No data for this trip B:54:7!\n",
      "No data for this trip 1681651998!\n",
      "No data for this trip B:54:21!\n",
      "No data for this trip 1681652423!\n",
      "No data for this trip 1681652860!\n",
      "No data for this trip 1681653722!\n",
      "No data for this trip 1681654568!\n",
      "No data for this trip B:54:719!\n",
      "No data for this trip B:54:4!\n",
      "No data for this trip 1681806434!\n",
      "No data for this trip 1681806859!\n",
      "No data for this trip 1681807301!\n",
      "No data for this trip 1681807723!\n",
      "No data for this trip 1681808143!\n",
      "No data for this trip B:54:721!\n",
      "No data for this trip 1681819443!\n",
      "No data for this trip 1681819446!\n",
      "No data for this trip 1681819879!\n",
      "No data for this trip B:54:6!\n",
      "No data for this trip 1681820008!\n",
      "No data for this trip B:54:708!\n",
      "No data for this trip 1681954776!\n",
      "No data for this trip 1681955207!\n",
      "No data for this trip 1681955631!\n",
      "No data for this trip 1681956511!\n",
      "No data for this trip B:54:762!\n",
      "No data for this trip B:54:14!\n",
      "No data for this trip 1681977866!\n",
      "No data for this trip 1681978300!\n",
      "No data for this trip 1681978721!\n",
      "No data for this trip 1681979600!\n",
      "No data for this trip 1681980019!\n",
      "No data for this trip B:54:11!\n",
      "No data for this trip B:54:732!\n",
      "No data for this trip 1682005383!\n",
      "No data for this trip 1682005819!\n",
      "No data for this trip 1682006255!\n",
      "No data for this trip 1682006700!\n",
      "No data for this trip B:54:735!\n",
      "No data for this trip 1682009602!\n",
      "No data for this trip 1682010032!\n",
      "No data for this trip 1682010464!\n",
      "No data for this trip 1682010899!\n",
      "No data for this trip 1682011160!\n",
      "No data for this trip 1682011761!\n",
      "No data for this trip B:54:9!\n",
      "No data for this trip B:54:737!\n",
      "No data for this trip B:54:706!\n",
      "No data for this trip B:54:5!\n",
      "No data for this trip 1682103737!\n",
      "No data for this trip B:54:15!\n",
      "No data for this trip 1682104163!\n",
      "No data for this trip 1682104596!\n",
      "No data for this trip 1682105464!\n",
      "No data for this trip 1682105888!\n",
      "No data for this trip B:54:710!\n",
      "No data for this trip B:54:752!\n",
      "No data for this trip 1682263046!\n",
      "No data for this trip 1682263917!\n",
      "No data for this trip 1682272212!\n",
      "No data for this trip 1682272643!\n",
      "Starting to get trip IDs. Takes a while....\n",
      "We have 314 graphs\n",
      "No data for this trip B:155:702!\n",
      "No data for this trip B:155:11!\n",
      "No data for this trip B:155:12!\n",
      "No data for this trip B:155:6!\n",
      "No data for this trip B:155:14!\n",
      "No data for this trip 1681910231!\n",
      "No data for this trip B:155:703!\n",
      "No data for this trip B:155:706!\n",
      "We have 436 graphs in this map.\n",
      "Start merging them\n",
      "Merged 0 out of 435\n",
      "Merged 20 out of 435\n",
      "Merged 40 out of 435\n",
      "Merged 60 out of 435\n",
      "Merged 80 out of 435\n",
      "Merged 100 out of 435\n",
      "Merged 120 out of 435\n",
      "Merged 140 out of 435\n",
      "Merged 160 out of 435\n",
      "Merged 180 out of 435\n",
      "Merged 200 out of 435\n",
      "Merged 220 out of 435\n",
      "Merged 240 out of 435\n",
      "Merged 260 out of 435\n",
      "Merged 280 out of 435\n",
      "Merged 300 out of 435\n",
      "Merged 320 out of 435\n",
      "Merged 340 out of 435\n",
      "Merged 360 out of 435\n",
      "Merged 380 out of 435\n",
      "There are duplicate ids, lets jump this graph...\n",
      "Merged 400 out of 435\n",
      "Merged 420 out of 435\n"
     ]
    }
   ],
   "source": [
    "buslines = [54, 155]\n",
    "lines_route = [(x, '%') for x in buslines]\n",
    "\n",
    "start_date = '2018-02-15'\n",
    "dates = pose_graph_helper.createDays(start_date, 1)\n",
    "print(\"Lines {} on dates {}\".format(lines_route, dates))\n",
    "\n",
    "graphs = pose_graph_helper.getGraphsDateLine(dates, lines_route, limit_line=200)\n",
    "\n",
    "print(\"We have {} graphs in this map.\".format(len(graphs)))\n",
    "print(\"Start merging them\")\n",
    "\n",
    "base_graph = graphs.pop(0)\n",
    "\n",
    "for i, graph in enumerate(graphs):\n",
    "    if (i % 20 == 0):\n",
    "        print(\"Merged {} out of {}\".format(i, len(graphs)))\n",
    "    try:\n",
    "        merger.globalXYMerge(base_graph, graph)\n",
    "    except nx.exception.NetworkXError:\n",
    "        print(\"There are duplicate ids, lets jump this graph...\")\n",
    "        pass"
   ]
  },
  {
   "cell_type": "code",
   "execution_count": 3,
   "metadata": {},
   "outputs": [
    {
     "data": {
      "application/vnd.jupyter.widget-view+json": {
       "model_id": "f7b27d8b073549d29b1db03ac0e733aa",
       "version_major": 2,
       "version_minor": 0
      },
      "text/plain": [
       "Figure(layout=FigureLayout(height='420px'))"
      ]
     },
     "metadata": {},
     "output_type": "display_data"
    }
   ],
   "source": [
    "plotter = plt.Plotter()\n",
    "heatmap_raw = plotter.addHeatmapLayer([base_graph])\n",
    "heatmap_raw.max_intensity = 20\n",
    "plotter.plotGmaps()"
   ]
  },
  {
   "cell_type": "markdown",
   "metadata": {},
   "source": [
    "## Applying the window smoother"
   ]
  },
  {
   "cell_type": "code",
   "execution_count": 4,
   "metadata": {},
   "outputs": [
    {
     "name": "stdout",
     "output_type": "stream",
     "text": [
      "In window smoother for 98602 nodes. Might take a\n",
      "          while...\n",
      "Finished creating tree....\n",
      "Finished finding NN\n",
      "on node 0 of 98602\n",
      "on node 10000 of 98602\n",
      "on node 20000 of 98602\n",
      "on node 30000 of 98602\n",
      "on node 40000 of 98602\n",
      "on node 50000 of 98602\n",
      "on node 60000 of 98602\n",
      "on node 70000 of 98602\n",
      "on node 80000 of 98602\n",
      "on node 90000 of 98602\n"
     ]
    }
   ],
   "source": [
    "after_window = pose_graph_helper.windowSmoother(base_graph, radius=15, angle=1)"
   ]
  },
  {
   "cell_type": "code",
   "execution_count": 5,
   "metadata": {},
   "outputs": [
    {
     "data": {
      "application/vnd.jupyter.widget-view+json": {
       "model_id": "c9eec4a0841d4dbb9af5fabd681beecc",
       "version_major": 2,
       "version_minor": 0
      },
      "text/plain": [
       "Figure(layout=FigureLayout(height='420px'))"
      ]
     },
     "metadata": {},
     "output_type": "display_data"
    }
   ],
   "source": [
    "plotter = plt.Plotter()\n",
    "heatmap_after = plotter.addHeatmapLayer([after_window])\n",
    "heatmap_after.max_intensity = 20\n",
    "plotter.plotGmaps()"
   ]
  },
  {
   "cell_type": "markdown",
   "metadata": {},
   "source": [
    "## Finding representative centroids"
   ]
  },
  {
   "cell_type": "code",
   "execution_count": 6,
   "metadata": {
    "scrolled": true
   },
   "outputs": [
    {
     "name": "stdout",
     "output_type": "stream",
     "text": [
      "0 of 98602 are represented\n",
      "800 of 98602 are represented\n",
      "1700 of 98602 are represented\n",
      "4500 of 98602 are represented\n",
      "6700 of 98602 are represented\n",
      "12300 of 98602 are represented\n",
      "19300 of 98602 are represented\n",
      "20800 of 98602 are represented\n",
      "22900 of 98602 are represented\n",
      "27500 of 98602 are represented\n",
      "39800 of 98602 are represented\n",
      "43900 of 98602 are represented\n",
      "45500 of 98602 are represented\n",
      "45700 of 98602 are represented\n",
      "46700 of 98602 are represented\n",
      "49900 of 98602 are represented\n",
      "50100 of 98602 are represented\n",
      "51900 of 98602 are represented\n",
      "52500 of 98602 are represented\n",
      "60900 of 98602 are represented\n",
      "64600 of 98602 are represented\n",
      "67500 of 98602 are represented\n",
      "71300 of 98602 are represented\n",
      "75300 of 98602 are represented\n",
      "84400 of 98602 are represented\n",
      "88900 of 98602 are represented\n",
      "89200 of 98602 are represented\n",
      "93500 of 98602 are represented\n",
      "95700 of 98602 are represented\n",
      "96200 of 98602 are represented\n",
      "97400 of 98602 are represented\n",
      "97900 of 98602 are represented\n",
      "98100 of 98602 are represented\n",
      "98200 of 98602 are represented\n",
      "98500 of 98602 are represented\n",
      "98600 of 98602 are represented\n",
      "No more unassigned nodes... Done here!\n",
      "The node cutoff is 22 representing less than 10%\n"
     ]
    }
   ],
   "source": [
    "represented = representor.Representor(after_window)\n",
    "represented.computeCentroids(radius=15, angle=1, cutoff_percent=10)"
   ]
  },
  {
   "cell_type": "markdown",
   "metadata": {},
   "source": [
    "## Drawing edges"
   ]
  },
  {
   "cell_type": "code",
   "execution_count": 7,
   "metadata": {},
   "outputs": [
    {
     "name": "stdout",
     "output_type": "stream",
     "text": [
      "The edge cutoff is 2 representing less than 2%\n",
      "The edge cutoff is 26 representing less than 5%\n"
     ]
    }
   ],
   "source": [
    "final_map = represented.exportCentroidsInGraph()"
   ]
  },
  {
   "cell_type": "markdown",
   "metadata": {},
   "source": [
    "### Intermediate graph"
   ]
  },
  {
   "cell_type": "markdown",
   "metadata": {},
   "source": [
    "The intermediate graph consists of all edges which connect a vehicle trajectory on the centroids. Therefore it contains many edges which get sparsified trhough the search on each of these edges."
   ]
  },
  {
   "cell_type": "code",
   "execution_count": 8,
   "metadata": {},
   "outputs": [],
   "source": [
    "intermediate_graph = represented.intermediate_graph"
   ]
  },
  {
   "cell_type": "code",
   "execution_count": 9,
   "metadata": {},
   "outputs": [
    {
     "name": "stdout",
     "output_type": "stream",
     "text": [
      "Not enough a nearest neighbors within threshold!\n",
      "Doubling threshold...\n",
      "Not enough a nearest neighbors within threshold!\n",
      "Doubling threshold...\n",
      "Not enough a nearest neighbors within threshold!\n",
      "Doubling threshold...\n"
     ]
    },
    {
     "data": {
      "application/vnd.jupyter.widget-view+json": {
       "model_id": "32694d197401436b9eb4299705e80019",
       "version_major": 2,
       "version_minor": 0
      },
      "text/plain": [
       "Figure(layout=FigureLayout(height='420px'))"
      ]
     },
     "metadata": {},
     "output_type": "display_data"
    }
   ],
   "source": [
    "position = np.array([ 48.165152, 11.588042 ])\n",
    "subgraph = intermediate_graph.exportSubgraphNN(lat_lon=position, k=800)\n",
    "plotter = plt.Plotter()\n",
    "plotter.addNodeLayer(subgraph)\n",
    "plotter.addEdgeLayer(subgraph)\n",
    "plotter.plotGmaps()"
   ]
  },
  {
   "cell_type": "markdown",
   "metadata": {},
   "source": [
    "### Final graph"
   ]
  },
  {
   "cell_type": "code",
   "execution_count": 10,
   "metadata": {},
   "outputs": [
    {
     "name": "stdout",
     "output_type": "stream",
     "text": [
      "Not enough a nearest neighbors within threshold!\n",
      "Doubling threshold...\n",
      "Not enough a nearest neighbors within threshold!\n",
      "Doubling threshold...\n",
      "Not enough a nearest neighbors within threshold!\n",
      "Doubling threshold...\n"
     ]
    },
    {
     "data": {
      "application/vnd.jupyter.widget-view+json": {
       "model_id": "2c6a6c6b79cd40548ac5b85193bbc00c",
       "version_major": 2,
       "version_minor": 0
      },
      "text/plain": [
       "Figure(layout=FigureLayout(height='420px'))"
      ]
     },
     "metadata": {},
     "output_type": "display_data"
    }
   ],
   "source": [
    "position = np.array([ 48.165152, 11.588042 ])\n",
    "subgraph = final_map.exportSubgraphNN(lat_lon=position, k=800)\n",
    "plotter = plt.Plotter()\n",
    "plotter.addNodeLayer(subgraph)\n",
    "plotter.addEdgeLayer(subgraph)\n",
    "plotter.plotGmaps()"
   ]
  },
  {
   "cell_type": "markdown",
   "metadata": {},
   "source": [
    "## Sparsifying the graph\n",
    "Sparsification (dropping nodes on linear segments) can be done with the Ramer-Douglas-Peucker algorithm."
   ]
  },
  {
   "cell_type": "code",
   "execution_count": 20,
   "metadata": {},
   "outputs": [
    {
     "name": "stdout",
     "output_type": "stream",
     "text": [
      "1888\n",
      "1987\n",
      "270\n"
     ]
    }
   ],
   "source": [
    "print(len(final_map.nx_graph.nodes))\n",
    "print(len(final_map.nx_graph.edges))\n",
    "\n",
    "splitters = sparsifier.findSetSplitters(final_map.nx_graph)\n",
    "print(len(splitters))"
   ]
  },
  {
   "cell_type": "code",
   "execution_count": 21,
   "metadata": {},
   "outputs": [
    {
     "name": "stdout",
     "output_type": "stream",
     "text": [
      "Dropped 1170 edges.\n",
      "718\n",
      "766\n"
     ]
    }
   ],
   "source": [
    "sparse_full_map = sparsifier.sparsifyPoseGraph(final_map, criteria=\"rdp\", epsilon=2)\n",
    "\n",
    "print(len(sparse_full_map.nx_graph.nodes))\n",
    "print(len(sparse_full_map.nx_graph.edges))"
   ]
  },
  {
   "cell_type": "code",
   "execution_count": 13,
   "metadata": {},
   "outputs": [
    {
     "data": {
      "application/vnd.jupyter.widget-view+json": {
       "model_id": "c4d83c49e0d1455e91c53f6ef270a4b4",
       "version_major": 2,
       "version_minor": 0
      },
      "text/plain": [
       "Figure(layout=FigureLayout(height='420px'))"
      ]
     },
     "metadata": {},
     "output_type": "display_data"
    }
   ],
   "source": [
    "plotter = plt.Plotter()\n",
    "plotter.addNodeLayer(sparse_full_map)\n",
    "plotter.addEdgeLayer(sparse_full_map)\n",
    "plotter.plotGmaps()"
   ]
  },
  {
   "cell_type": "markdown",
   "metadata": {},
   "source": [
    "## Creating the abstract graph"
   ]
  },
  {
   "cell_type": "code",
   "execution_count": 16,
   "metadata": {
    "scrolled": true
   },
   "outputs": [
    {
     "name": "stdout",
     "output_type": "stream",
     "text": [
      "Dropped 1618 edges.\n",
      "270\n"
     ]
    }
   ],
   "source": [
    "abstract_map = sparsifier.sparsifyPoseGraph(final_map, criteria=\"abstract\")\n",
    "\n",
    "print(len(abstract_map.nx_graph.nodes))"
   ]
  },
  {
   "cell_type": "code",
   "execution_count": 17,
   "metadata": {},
   "outputs": [
    {
     "data": {
      "application/vnd.jupyter.widget-view+json": {
       "model_id": "35d64d7413cc4626bf5d8c7bc1a5cd30",
       "version_major": 2,
       "version_minor": 0
      },
      "text/plain": [
       "Figure(layout=FigureLayout(height='420px'))"
      ]
     },
     "metadata": {},
     "output_type": "display_data"
    }
   ],
   "source": [
    "plotter = plt.Plotter()\n",
    "plotter.addNodeLayer(abstract_map)\n",
    "plotter.addEdgeLayer(abstract_map)\n",
    "plotter.addDoorLayer(abstract_map)\n",
    "plotter.plotGmaps()\n"
   ]
  }
 ],
 "metadata": {
  "kernelspec": {
   "display_name": "MVG Project",
   "language": "python",
   "name": "mvg_project"
  },
  "language_info": {
   "codemirror_mode": {
    "name": "ipython",
    "version": 3
   },
   "file_extension": ".py",
   "mimetype": "text/x-python",
   "name": "python",
   "nbconvert_exporter": "python",
   "pygments_lexer": "ipython3",
   "version": "3.6.5"
  }
 },
 "nbformat": 4,
 "nbformat_minor": 2
}
